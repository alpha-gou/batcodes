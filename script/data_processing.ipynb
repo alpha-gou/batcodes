{
 "cells": [
  {
   "cell_type": "markdown",
   "metadata": {},
   "source": [
    "# 初始化"
   ]
  },
  {
   "cell_type": "code",
   "execution_count": null,
   "metadata": {},
   "outputs": [],
   "source": [
    "# 移动目录\n",
    "# %cd /data/homework/user/wangning/aitutor/knowledge_aigc_k12_aivideo_unmanned_server\n",
    "# %cd /data/homework/user/wangning/aitutor/xg\n",
    "\n",
    "import pandas as pd\n",
    "import numpy as np\n",
    "import json\n",
    "import csv\n",
    "import requests\n",
    "import sys\n",
    "import math\n",
    "import re\n",
    "\n",
    "%pwd"
   ]
  },
  {
   "cell_type": "markdown",
   "metadata": {},
   "source": [
    "# 常用工具型函数"
   ]
  },
  {
   "cell_type": "code",
   "execution_count": null,
   "metadata": {},
   "outputs": [],
   "source": [
    "# sft数据生成\n",
    "def gen_share_gpt_format_data(in_str, out_str):\n",
    "    data = {\n",
    "        \"conversations\": [\n",
    "            {\n",
    "                \"from\": \"human\",\n",
    "                \"value\": in_str \n",
    "            },\n",
    "            {\n",
    "                \"from\": \"gpt\",\n",
    "                \"value\": out_str\n",
    "            }\n",
    "        ]\n",
    "    }\n",
    "    return data\n",
    "\n",
    "\n",
    "# dpo 格式数据生成\n",
    "def gen_dpo_format_data(in_str, good_str, bad_str):\n",
    "    data = {\n",
    "        \"conversations\": [\n",
    "            {\"from\": \"human\", \"value\": in_str }\n",
    "        ],\n",
    "        \"chosen\": {\"from\": \"gpt\", \"value\": good_str},\n",
    "        \"rejected\": {\"from\": \"gpt\",\"value\": bad_str}\n",
    "    }\n",
    "    return data"
   ]
  },
  {
   "cell_type": "markdown",
   "metadata": {},
   "source": [
    "### 一些示例\n",
    "\n",
    "llama_factory 格式数据生产"
   ]
  },
  {
   "cell_type": "code",
   "execution_count": null,
   "metadata": {},
   "outputs": [],
   "source": [
    "# sft 格式数据生成\n",
    "df1 = pd.read_csv(\"train_data/video_script_data_gs_r1r2_pos_46w.csv\").head(459000)\n",
    "df1[\"lm_data\"] = df1.apply(lambda x: gen_share_gpt_format_data(x[\"original_script\"], x[\"final_script\"]), axis=1)\n",
    "print(df1.shape)\n",
    "data_list = df1[\"lm_data\"].to_list()\n",
    "with open(\"xg_train_v2_46w_part1.json\", \"w\") as f:\n",
    "    json.dump(data_list[:200000], f, ensure_ascii=False, indent=4)\n",
    "\n",
    "\n",
    "# dpo 格式数据生成\n",
    "df1 = pd.read_csv(\"train_data/vs_data_0105_dpo_mid_9w.csv\")\n",
    "df1 = df1.dropna()\n",
    "print(df1.shape)\n",
    "df1[\"lm_data\"] = df1.apply(lambda x: gen_dpo_format_data(x[\"original_script\"], x[\"final_script\"], x[\"rdc_res\"]), axis=1)\n",
    "with open(\"train_data/xg_train_dpo_v3_clean_2w.json\", \"w\") as f:\n",
    "    json.dump(df1[\"lm_data\"].to_list(), f, ensure_ascii=False, indent=4)"
   ]
  },
  {
   "cell_type": "markdown",
   "metadata": {},
   "source": [
    "# 未修改部分"
   ]
  },
  {
   "cell_type": "code",
   "execution_count": null,
   "metadata": {},
   "outputs": [
    {
     "data": {
      "text/plain": [
       "'/Users/zyb/Documents/code'"
      ]
     },
     "execution_count": 17,
     "metadata": {},
     "output_type": "execute_result"
    }
   ],
   "source": [
    "\n",
    "def __parse_log_data(text):\n",
    "    data = json.loads(text)\n",
    "    new_data = {\n",
    "        \"tid\": data[\"raw\"][\"tid\"],\n",
    "        \"question\": data[\"base\"][\"question\"],\n",
    "        \"answer\": data[\"base\"][\"answer\"],\n",
    "        \"raw_script\": data[\"raw\"][\"script\"],\n",
    "        \"script\": data[\"res\"][\"script\"],\n",
    "        \"err_info\": data[\"res\"][\"err_info\"],\n",
    "    }\n",
    "    return pd.Series(new_data)\n",
    "\n",
    "\n",
    "def parse_log_data(df, colname=\"log\"):\n",
    "    df[[\"tid\", \"question\", \"answer\", \"raw_script\", \"script\", \"err_info\"]] = df[colname].apply(__parse_log_data)\n",
    "    return df\n",
    "\n",
    "%pwd"
   ]
  },
  {
   "cell_type": "code",
   "execution_count": 43,
   "metadata": {},
   "outputs": [
    {
     "name": "stderr",
     "output_type": "stream",
     "text": [
      "/var/folders/ns/m5vxq5ds5f7gk9sblvwlhnf00000gn/T/ipykernel_51452/352234324.py:7: DtypeWarning: Columns (7) have mixed types. Specify dtype option on import or set low_memory=False.\n",
      "  df = pd.read_csv(\"mm/h2小数摸底.csv\")\n"
     ]
    },
    {
     "data": {
      "text/html": [
       "<div>\n",
       "<style scoped>\n",
       "    .dataframe tbody tr th:only-of-type {\n",
       "        vertical-align: middle;\n",
       "    }\n",
       "\n",
       "    .dataframe tbody tr th {\n",
       "        vertical-align: top;\n",
       "    }\n",
       "\n",
       "    .dataframe thead th {\n",
       "        text-align: right;\n",
       "    }\n",
       "</style>\n",
       "<table border=\"1\" class=\"dataframe\">\n",
       "  <thead>\n",
       "    <tr style=\"text-align: right;\">\n",
       "      <th></th>\n",
       "      <th>month</th>\n",
       "      <th>tid_count</th>\n",
       "      <th>tid_total</th>\n",
       "      <th>pic_sum</th>\n",
       "      <th>jisuan_sum</th>\n",
       "      <th>gpt_sum</th>\n",
       "      <th>inmm_sum</th>\n",
       "    </tr>\n",
       "  </thead>\n",
       "  <tbody>\n",
       "    <tr>\n",
       "      <th>0</th>\n",
       "      <td>1</td>\n",
       "      <td>1970</td>\n",
       "      <td>1983</td>\n",
       "      <td>738</td>\n",
       "      <td>1</td>\n",
       "      <td>167</td>\n",
       "      <td>684</td>\n",
       "    </tr>\n",
       "    <tr>\n",
       "      <th>1</th>\n",
       "      <td>10</td>\n",
       "      <td>1942</td>\n",
       "      <td>1942</td>\n",
       "      <td>978</td>\n",
       "      <td>3</td>\n",
       "      <td>158</td>\n",
       "      <td>901</td>\n",
       "    </tr>\n",
       "    <tr>\n",
       "      <th>2</th>\n",
       "      <td>11</td>\n",
       "      <td>1941</td>\n",
       "      <td>1941</td>\n",
       "      <td>985</td>\n",
       "      <td>3</td>\n",
       "      <td>158</td>\n",
       "      <td>875</td>\n",
       "    </tr>\n",
       "    <tr>\n",
       "      <th>3</th>\n",
       "      <td>12</td>\n",
       "      <td>1961</td>\n",
       "      <td>1962</td>\n",
       "      <td>932</td>\n",
       "      <td>1</td>\n",
       "      <td>156</td>\n",
       "      <td>837</td>\n",
       "    </tr>\n",
       "    <tr>\n",
       "      <th>4</th>\n",
       "      <td>2</td>\n",
       "      <td>1958</td>\n",
       "      <td>1961</td>\n",
       "      <td>570</td>\n",
       "      <td>2</td>\n",
       "      <td>89</td>\n",
       "      <td>536</td>\n",
       "    </tr>\n",
       "    <tr>\n",
       "      <th>5</th>\n",
       "      <td>3</td>\n",
       "      <td>1981</td>\n",
       "      <td>1982</td>\n",
       "      <td>642</td>\n",
       "      <td>5</td>\n",
       "      <td>158</td>\n",
       "      <td>591</td>\n",
       "    </tr>\n",
       "    <tr>\n",
       "      <th>6</th>\n",
       "      <td>4</td>\n",
       "      <td>1984</td>\n",
       "      <td>1985</td>\n",
       "      <td>699</td>\n",
       "      <td>3</td>\n",
       "      <td>208</td>\n",
       "      <td>640</td>\n",
       "    </tr>\n",
       "    <tr>\n",
       "      <th>7</th>\n",
       "      <td>5</td>\n",
       "      <td>1969</td>\n",
       "      <td>1969</td>\n",
       "      <td>838</td>\n",
       "      <td>2</td>\n",
       "      <td>143</td>\n",
       "      <td>776</td>\n",
       "    </tr>\n",
       "    <tr>\n",
       "      <th>8</th>\n",
       "      <td>6</td>\n",
       "      <td>1961</td>\n",
       "      <td>1962</td>\n",
       "      <td>939</td>\n",
       "      <td>0</td>\n",
       "      <td>219</td>\n",
       "      <td>863</td>\n",
       "    </tr>\n",
       "    <tr>\n",
       "      <th>9</th>\n",
       "      <td>7</td>\n",
       "      <td>1957</td>\n",
       "      <td>1958</td>\n",
       "      <td>771</td>\n",
       "      <td>8</td>\n",
       "      <td>176</td>\n",
       "      <td>703</td>\n",
       "    </tr>\n",
       "    <tr>\n",
       "      <th>10</th>\n",
       "      <td>8</td>\n",
       "      <td>1961</td>\n",
       "      <td>1962</td>\n",
       "      <td>410</td>\n",
       "      <td>2</td>\n",
       "      <td>151</td>\n",
       "      <td>384</td>\n",
       "    </tr>\n",
       "    <tr>\n",
       "      <th>11</th>\n",
       "      <td>9</td>\n",
       "      <td>1948</td>\n",
       "      <td>1950</td>\n",
       "      <td>932</td>\n",
       "      <td>1</td>\n",
       "      <td>129</td>\n",
       "      <td>843</td>\n",
       "    </tr>\n",
       "  </tbody>\n",
       "</table>\n",
       "</div>"
      ],
      "text/plain": [
       "   month  tid_count  tid_total  pic_sum  jisuan_sum  gpt_sum  inmm_sum\n",
       "0      1       1970       1983      738           1      167       684\n",
       "1     10       1942       1942      978           3      158       901\n",
       "2     11       1941       1941      985           3      158       875\n",
       "3     12       1961       1962      932           1      156       837\n",
       "4      2       1958       1961      570           2       89       536\n",
       "5      3       1981       1982      642           5      158       591\n",
       "6      4       1984       1985      699           3      208       640\n",
       "7      5       1969       1969      838           2      143       776\n",
       "8      6       1961       1962      939           0      219       863\n",
       "9      7       1957       1958      771           8      176       703\n",
       "10     8       1961       1962      410           2      151       384\n",
       "11     9       1948       1950      932           1      129       843"
      ]
     },
     "execution_count": 43,
     "metadata": {},
     "output_type": "execute_result"
    }
   ],
   "source": [
    "def in_mmxg(row):\n",
    "    if (row[\"pic\"] == 1) and (row[\"jisuan\"] == 0):\n",
    "        if (row[\"has_gpt\"] == 1) or (row[\"err_msg\"] is not np.nan and row[\"err_msg\"].strip('\"') in {\"题干是图片\", \"题干存在图片\", \"题干是图片\"}):\n",
    "            return 1\n",
    "    return 0\n",
    "\n",
    "df = pd.read_csv(\"mm/h2小数摸底.csv\")\n",
    "df = df.dropna(axis=1, how='all')\n",
    "df[\"month\"] = df[\"日期\"].apply(lambda x : x.split(\"/\")[1])\n",
    "df[\"pic\"] = df[\"是否含图\"].apply(lambda x : 1 if x == \"是\" else 0)\n",
    "df[\"jisuan\"] = df.apply(lambda x : 1 if ((x[\"video_url\"] is not np.nan) and (x[\"pic\"] == 1)) else 0, axis=1)\n",
    "df[\"has_gpt\"] = df.apply(lambda x : 1 if (x[\"finally_script\"] is not np.nan) and (x[\"pic\"] == 1) else 0, axis=1)\n",
    "df[\"mmxg_in\"] = df.apply(in_mmxg, axis=1)\n",
    "result = df.groupby('month').agg(\n",
    "    tid_count=('tid', 'nunique'),  # 统计tid数量（排除重复）\n",
    "    tid_total=('tid', 'count'),    # 统计tid出现次数（包含重复）\n",
    "    pic_sum=('pic', 'sum'),         # 对pic列求和\n",
    "    jisuan_sum=('jisuan', 'sum'),\n",
    "    gpt_sum=('has_gpt', 'sum'),\n",
    "    inmm_sum=('mmxg_in', 'sum'),\n",
    ").reset_index()\n",
    "result"
   ]
  },
  {
   "cell_type": "code",
   "execution_count": 44,
   "metadata": {},
   "outputs": [],
   "source": [
    "result.to_csv(\"mm/h2小数摸底汇总.csv\", index=False)"
   ]
  },
  {
   "cell_type": "code",
   "execution_count": 49,
   "metadata": {},
   "outputs": [
    {
     "name": "stdout",
     "output_type": "stream",
     "text": [
      "(1881, 20)\n",
      "(6752, 20)\n",
      "(600, 20)\n",
      "(600, 20)\n"
     ]
    }
   ],
   "source": [
    "df_in = df[df[\"mmxg_in\"] == 1]\n",
    "df1 = df_in[df_in[\"has_gpt\"] == 1]\n",
    "df2 = df_in[df_in[\"has_gpt\"] == 0]\n",
    "print(df1.shape)\n",
    "print(df2.shape)\n",
    "sampled_df1 = df1.groupby('month', group_keys=False).apply(lambda x: x.sample(n=50))\n",
    "sampled_df2 = df2.groupby('month', group_keys=False).apply(lambda x: x.sample(n=50))\n",
    "print(sampled_df1.shape)\n",
    "print(sampled_df2.shape)"
   ]
  },
  {
   "cell_type": "code",
   "execution_count": 50,
   "metadata": {},
   "outputs": [],
   "source": [
    "sampled_df1[[\"tid\", \"month\", \"finally_script\"]].to_csv(\"mm/modi_gpt_sample600.csv\", index=False)\n",
    "sampled_df2[[\"tid\", \"month\", \"err_msg\"]].to_csv(\"mm/modi_filtered_sample600.csv\", index=False)"
   ]
  },
  {
   "cell_type": "code",
   "execution_count": null,
   "metadata": {},
   "outputs": [],
   "source": [
    "df = df[df[\"是否含图\"] == \"是\"]\n",
    "# df = df[['日期', 'tid', '泛计算返回', 'err_msg', 'finally_script', 'ext' ]]\n",
    "df = df[['日期', 'tid', 'err_msg', 'finally_script']]\n",
    "df = df[df[\"finally_script\"].isna()]\n",
    "print(df.shape)\n",
    "df.head(1)"
   ]
  },
  {
   "cell_type": "code",
   "execution_count": 215,
   "metadata": {},
   "outputs": [
    {
     "name": "stdout",
     "output_type": "stream",
     "text": [
      "(47, 10)\n",
      "(151, 10)\n"
     ]
    }
   ],
   "source": [
    "def gen_original_script(text):\n",
    "    try:\n",
    "       data = eval(text)\n",
    "    except:\n",
    "        return \"\"\n",
    "\n",
    "    try:\n",
    "        new_data = {}\n",
    "        cnt = 1\n",
    "        for jt_data in data:\n",
    "            for key in jt_data:\n",
    "                new_data[\"镜头%d\" % cnt ] = {\n",
    "                    \"内容类型\": jt_data[key][\"类型\"],\n",
    "                    \"屏幕内容\":jt_data[key].get(\"屏幕\", \"\"),\n",
    "                    \"旁白内容\":jt_data[key].get(\"旁白\", \"\"),\n",
    "                    \"标注内容\": \"\",\n",
    "                }\n",
    "                cnt += 1\n",
    "    except:\n",
    "        print(jt_data)\n",
    "    return json.dumps(new_data, ensure_ascii=False)\n",
    "\n",
    "\n",
    "def json_check(text):\n",
    "    try:\n",
    "       data = eval(text)\n",
    "    except:\n",
    "        return 0\n",
    "    else:\n",
    "        return 1\n",
    "\n",
    "\n",
    "# df = pd.read_csv(\"mm_new/0915_review_raw.csv\")\n",
    "df = pd.read_excel(\"mm_new/output.xlsx\")\n",
    "\n",
    "df[\"json_check\"] = df[\"result\"].apply(json_check)\n",
    "print(df[df[\"json_check\"] == 0].shape)\n",
    "df = df[df[\"json_check\"] == 1]\n",
    "print(df.shape)\n",
    "df[\"original_script\"] = df[\"result\"].apply(gen_original_script)\n",
    "df.to_csv(\"mm_new/mm_gpt5_0922_data_stage_1.csv\", index=False)"
   ]
  },
  {
   "cell_type": "code",
   "execution_count": 179,
   "metadata": {},
   "outputs": [
    {
     "name": "stdout",
     "output_type": "stream",
     "text": [
      "(117, 18)\n",
      "(130, 18)\n",
      "(130, 18)\n"
     ]
    }
   ],
   "source": [
    "# df = df[df[\"original_script\"] != \"\"]\n",
    "print(df.shape)\n",
    "df = pd.concat([df, df1], ignore_index=True)\n",
    "print(df.shape)\n",
    "print(df.drop_duplicates(subset=\"tid\").shape)"
   ]
  },
  {
   "cell_type": "code",
   "execution_count": 47,
   "metadata": {},
   "outputs": [],
   "source": [
    "df = pd.read_csv(\"aivideo_quality/data/raw/小数历史低分不合格脚本.csv\")\n",
    "df[\"script\"] = df.apply(lambda x: x[\"original_script\"] if x[\"model\"] in {\"改写\", \"泛计算\"} else x[\"finally_script\"], axis=1)\n",
    "df = df[df[\"is_modified\"] != 1][[\"tid\", \"teachertid\", \"script\", \"model\"]]\n",
    "\n",
    "df1 = pd.read_csv(\"aivideo_quality/data/raw/每周小数例行低分评估.csv\")\n",
    "df = pd.merge(df, df1, on=\"tid\", how=\"left\")\n",
    "df.to_csv(\"aivideo_quality/data/bad_comment_util2508_dat_344.csv\", index=False)"
   ]
  },
  {
   "cell_type": "code",
   "execution_count": 50,
   "metadata": {},
   "outputs": [
    {
     "name": "stdout",
     "output_type": "stream",
     "text": [
      "(891, 7)\n",
      "(799, 4)\n"
     ]
    },
    {
     "data": {
      "text/plain": [
       "视频等级\n",
       "合格     357\n",
       "优秀     356\n",
       "不合格     86\n",
       "Name: count, dtype: int64"
      ]
     },
     "execution_count": 50,
     "metadata": {},
     "output_type": "execute_result"
    }
   ],
   "source": [
    "df = pd.read_csv(\"aivideo_quality/data/raw/小数H1周评脚本.csv\")\n",
    "df[\"script\"] = df.apply(lambda x: x[\"original_script\"] if x[\"model\"] in {\"改写\", \"泛计算\"} else x[\"finally_script\"], axis=1)\n",
    "print(df.shape)\n",
    "df = df[df[\"is_modified\"] != 1][[\"tid\", \"teachertid\", \"script\", \"model\"]]\n",
    "print(df.shape)\n",
    "\n",
    "df1 = pd.read_excel(\"aivideo_quality/data/raw/内审小数H1周评数据.xlsx\")\n",
    "df = pd.merge(df, df1, on=\"tid\", how=\"left\")\n",
    "df.to_csv(\"aivideo_quality/data/week_review_25h1_data_799.csv\", index=False)\n",
    "df[\"视频等级\"].value_counts()"
   ]
  },
  {
   "cell_type": "code",
   "execution_count": 117,
   "metadata": {},
   "outputs": [],
   "source": [
    "def get_label(score):\n",
    "    if score == 2:\n",
    "        return \"优秀\"\n",
    "    elif score == 0:\n",
    "        return \"不合格\"\n",
    "    else:\n",
    "        return \"合格\"\n",
    "\n",
    "df = pd.read_csv(\"rm4/data/raw/每周小数例行低分评估.csv\")[['tid', '回流前错因', '回流后错因', '备注', '错误类型', '修改情况']]\n",
    "df1 = pd.read_csv(\"rm4/data/raw/low_score_script.csv\")\n",
    "\n",
    "# df[\"label\"] = df[\"label\"].apply(get_label)\n",
    "# df[\"info\"] = df[\"info\"].apply(lambda x: x.strip().strip(\"\\n\").strip(\"总结：\") if type(x) == str else \"\")\n",
    "df = pd.merge(df, df1, on=\"tid\")\n",
    "df[\"script\"] = df.apply(lambda x: x[\"original_script\"] if x[\"model\"] in {\"改写\", \"泛计算\"} else x[\"finally_script\"], axis=1)\n",
    "df = df [['tid', '回流前错因', '回流后错因', '备注', '错误类型', '修改情况', 'model', 'status', 'script']]\n",
    "df.to_csv(\"rm4/data/raw/low_score_script.csv\", index=False)"
   ]
  },
  {
   "cell_type": "code",
   "execution_count": 125,
   "metadata": {},
   "outputs": [],
   "source": [
    "def get_label(row):\n",
    "    if row[\"错误类型\"] == \"没问题\":\n",
    "        return \"合格\"\n",
    "    else:\n",
    "        if row[\"model\"] != \"人工\":\n",
    "            return \"不合格\"\n",
    "        else:\n",
    "            if (row[\"status\"] != 2.0) and (row[\"status\"] != 4.0):\n",
    "                return \"不合格\"\n",
    "            else:\n",
    "                return \"-\"\n",
    "\n",
    "\n",
    "def get_err_info(row):\n",
    "    e_type = row[\"错误类型\"] if type(row[\"错误类型\"]) == str else \"\"\n",
    "    if type(row[\"回流后错因\"]) == str:\n",
    "        return e_type + \"；\" + row[\"回流后错因\"]\n",
    "    elif type(row[\"回流前错因\"]) == str:\n",
    "        return e_type + \"；\" + row[\"回流前错因\"]\n",
    "    else:\n",
    "        return e_type\n",
    "    \n",
    "\n",
    "df = pd.read_csv(\"rm4/data/raw/low_score_script_fixed.csv\")\n",
    "# df[\"model\"] = df[\"model\"].fillna(\"人工\")\n",
    "# df[\"label\"] = df.apply(get_label, axis=1)\n",
    "df[\"info\"] = df.apply(get_err_info, axis=1)\n",
    "df.to_csv(\"rm4/data/raw/low_score_script_fixed.csv\", index=False)"
   ]
  },
  {
   "cell_type": "code",
   "execution_count": 105,
   "metadata": {},
   "outputs": [],
   "source": [
    "df.to_csv(\"rm4/data/review_data_y24_192.csv\", index=False)"
   ]
  },
  {
   "cell_type": "code",
   "execution_count": 85,
   "metadata": {},
   "outputs": [],
   "source": [
    "df = pd.read_csv(\"rm4/data/raw/m78_badcase_script.csv\")\n",
    "df1 = pd.read_csv(\"rm4/data/raw/m78_bad_comment_badcase.csv\")\n",
    "df= pd.merge(df, df1, on=\"tid\")\n",
    "df[\"script\"] = df.apply(lambda x: x[\"original_script\"] if x[\"model\"] in {\"改写\", \"泛计算\"} else x[\"finally_script\"], axis=1)\n",
    "df.to_csv(\"rm4/data/m78_badcase.csv\", index=False)"
   ]
  },
  {
   "cell_type": "code",
   "execution_count": null,
   "metadata": {},
   "outputs": [
    {
     "name": "stdout",
     "output_type": "stream",
     "text": [
      "(897, 11)\n"
     ]
    }
   ],
   "source": [
    "df = pd.merge(df[[\"tid\", \"model\", \"script\", \"label\"]], df1, on=\"tid\")\n",
    "print(df.drop_duplicates(subset=\"tid\").shape)\n",
    "df.to_csv(\"aivideo_quality/data/week_review_data_25h1_897.csv\", index=False)"
   ]
  },
  {
   "cell_type": "code",
   "execution_count": 39,
   "metadata": {},
   "outputs": [],
   "source": [
    "df2 = pd.merge(df[[\"tid\", \"model\", \"script\", \"label\"]], df1, on=\"tid\")\n",
    "df2 = df2.drop_duplicates(subset=\"tid\")\n",
    "df2.to_csv(\"aivideo_quality/data/bad_comment_data_end2508_396.csv\", index=False)\n",
    "# df2[df2.duplicated(subset=\"tid\")]"
   ]
  },
  {
   "cell_type": "code",
   "execution_count": 199,
   "metadata": {},
   "outputs": [],
   "source": [
    "df1 = pd.read_csv(\"mm_new/0915_gpt5_prompt_data.csv\")\n",
    "df2 = pd.read_excel(\"mm_new/小学数学-9&10月图题.xlsx\")[[\"tid\", \"question_tol_url\"]]\n",
    "df = pd.merge(df1, df2, on=\"tid\")\n",
    "df.to_csv(\"mm_new/0915/0915_gpt5_prompt_data_new.csv\", index=False)\n",
    "# df = df2[~df2[\"tid\"].isin(df1[\"tid\"])]\n",
    "# df[\"online\"] = df.apply(lambda x: 1 if (x[\"RM3\"] == 1) and (x[\"EQ\"] == 1) else 0, axis=1)\n",
    "# df[[\"tid\", \"online\"]].to_csv(\"rm4/online_add_data.csv\", index=False)\n"
   ]
  },
  {
   "cell_type": "code",
   "execution_count": 203,
   "metadata": {},
   "outputs": [
    {
     "data": {
      "text/plain": [
       "(34, 12)"
      ]
     },
     "execution_count": 203,
     "metadata": {},
     "output_type": "execute_result"
    }
   ],
   "source": [
    "df1 = pd.read_excel(\"mm_new/0915/gpt5_res.xlsx\")[[\"tid\", \"result\"]]\n",
    "df1[\"original_script\"] = df1[\"result\"].apply(gen_original_script)\n",
    "df2 = pd.merge(df, df1, on=\"tid\")\n",
    "df2[df2[\"original_script\"] == \"\"].shape"
   ]
  },
  {
   "cell_type": "code",
   "execution_count": 138,
   "metadata": {},
   "outputs": [
    {
     "name": "stdout",
     "output_type": "stream",
     "text": [
      "0.7833333333333333\t0.6\t0.2631578947368421\t0.7625\t0.5\t0.3157894736842105\t0.8875\t0.75\t0.2727272727272727\t0.7\t0.6666666666666666\t0.2222222222222222\t"
     ]
    }
   ],
   "source": [
    "def cal_matrix(df):\n",
    "    total = df.shape[0]\n",
    "    tp = df[(df[\"online\"] == 1) & (df[\"label\"] != \"不合格\")].shape[0]\n",
    "    tn = df[(df[\"online\"] == 0) & (df[\"label\"] == \"不合格\")].shape[0]\n",
    "    all_bad = df[df[\"label\"] == \"不合格\"].shape[0]\n",
    "    pick = df[df[\"online\"] == 0].shape[0]\n",
    "    c_rate = 0.0 if pick == 0 else tn / pick\n",
    "    print((tp + tn )/ total, c_rate, tn / all_bad, sep=\"\\t\", end=\"\\t\")\n",
    "\n",
    "cal_matrix(df)\n",
    "cal_matrix(df[df[\"model\"] == \"人工\"])\n",
    "cal_matrix(df[df[\"model\"] == \"改写\"])\n",
    "cal_matrix(df[df[\"model\"] == \"泛计算\"])"
   ]
  }
 ],
 "metadata": {
  "kernelspec": {
   "display_name": "base",
   "language": "python",
   "name": "python3"
  },
  "language_info": {
   "codemirror_mode": {
    "name": "ipython",
    "version": 3
   },
   "file_extension": ".py",
   "mimetype": "text/x-python",
   "name": "python",
   "nbconvert_exporter": "python",
   "pygments_lexer": "ipython3",
   "version": "3.11.5"
  }
 },
 "nbformat": 4,
 "nbformat_minor": 2
}
